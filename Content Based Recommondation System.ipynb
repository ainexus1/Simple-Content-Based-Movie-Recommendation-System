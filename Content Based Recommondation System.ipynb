{
 "cells": [
  {
   "cell_type": "code",
   "execution_count": 1,
   "id": "ab7cc858-2a44-40e6-bf23-294d82a228db",
   "metadata": {},
   "outputs": [],
   "source": [
    "import numpy as np\n",
    "import pandas as pd"
   ]
  },
  {
   "cell_type": "code",
   "execution_count": null,
   "id": "fd9628d1-e3b1-4207-bd1a-73a86a9a50bf",
   "metadata": {},
   "outputs": [],
   "source": [
    "credits = pd.read_csv(\"\")"
   ]
  },
  {
   "cell_type": "code",
   "execution_count": null,
   "id": "569ee035-a059-4135-88ab-2daeb4aa5bd3",
   "metadata": {},
   "outputs": [],
   "source": [
    "movies_df = pd.read_csv(\"\")"
   ]
  },
  {
   "cell_type": "code",
   "execution_count": null,
   "id": "15acd008-9de4-44f1-916e-4ad7db90f831",
   "metadata": {},
   "outputs": [],
   "source": [
    "credits.head()"
   ]
  },
  {
   "cell_type": "code",
   "execution_count": null,
   "id": "4fa073b2-d564-443f-ace3-fcbcd8dab048",
   "metadata": {},
   "outputs": [],
   "source": [
    "movies_df.head()"
   ]
  },
  {
   "cell_type": "code",
   "execution_count": null,
   "id": "92a6506d-0eda-4e36-8681-a272e0923d22",
   "metadata": {},
   "outputs": [],
   "source": [
    "credits_column_renamed = credits.rename(index=str, columns={\"movie_id\": \"id\"})\n",
    "movies_df_merge = movies_df.merge(credits_column_renamed, on='id')\n",
    "movies_df_merge.head()"
   ]
  },
  {
   "cell_type": "code",
   "execution_count": null,
   "id": "19a408ce-50f5-44c8-92e4-d98fd54a67f1",
   "metadata": {},
   "outputs": [],
   "source": [
    "movies_cleaned_df = movies_df_merge.drop(columns=['homepage', 'title_x', 'title_y', 'status', 'production_countries'])\n",
    "movies_cleaned_df.head()"
   ]
  },
  {
   "cell_type": "code",
   "execution_count": null,
   "id": "87b1da10-8d20-4667-a57e-77b4935c5ef2",
   "metadata": {},
   "outputs": [],
   "source": [
    "movies_cleaned_df.info()"
   ]
  },
  {
   "cell_type": "code",
   "execution_count": null,
   "id": "1a84f4bc-784c-4e37-b4d5-3c68d9873057",
   "metadata": {},
   "outputs": [],
   "source": [
    "movies_cleaned_df.head(1) ['overview']"
   ]
  },
  {
   "cell_type": "code",
   "execution_count": null,
   "id": "1fa2535c-7b1b-4bf3-a829-23350ce95931",
   "metadata": {},
   "outputs": [],
   "source": [
    "from sklearn.feature_extraction.text import TfidfVectorizer\n",
    "tfv = TfidfVectorizer(min_df=3, max_features=None,\n",
    "                     strip_accents = 'unicode', analyzer='word', token_pattern=r'\\w{1,}',\n",
    "                     ngram_range =(1, 3),\n",
    "                     stop_words = 'english')\n",
    "\n",
    "movies_cleaned_df ['overview'] = movies_cleaned_df['overview'].fillna('')"
   ]
  },
  {
   "cell_type": "code",
   "execution_count": null,
   "id": "70c5c5d4-9470-4203-9c1b-7a8b8dbe02ea",
   "metadata": {},
   "outputs": [],
   "source": [
    "tfv_matrix = tfv.fit_transform(movies_cleaned_df['overview'])"
   ]
  },
  {
   "cell_type": "code",
   "execution_count": null,
   "id": "c62dcc1a-1fcd-4b33-af0f-2a97de8fcd91",
   "metadata": {},
   "outputs": [],
   "source": [
    "tfv_matrix"
   ]
  },
  {
   "cell_type": "code",
   "execution_count": null,
   "id": "89115240-7d44-4a0d-9763-c6d26cf74d4b",
   "metadata": {},
   "outputs": [],
   "source": [
    "from sklearn.metrics.pairwise import sigmoid_kernel\n",
    "\n",
    "sig = sigmoid_kernel(tfv_matrix, tfv_matrix)"
   ]
  },
  {
   "cell_type": "code",
   "execution_count": null,
   "id": "a127ec5e-0d42-428f-b735-5056004c4e93",
   "metadata": {},
   "outputs": [],
   "source": [
    "sig[0]"
   ]
  },
  {
   "cell_type": "code",
   "execution_count": null,
   "id": "044a2985-eedb-436a-89aa-33455b72c58f",
   "metadata": {},
   "outputs": [],
   "source": [
    "indices = pd.Series(movies_cleaned_df.index, index = movies_cleaned_df['original_title']).drop_duplicates()\n",
    "indices"
   ]
  },
  {
   "cell_type": "code",
   "execution_count": null,
   "id": "800a4daf-eb93-452e-84fd-7ee889e2a60c",
   "metadata": {},
   "outputs": [],
   "source": [
    "indices['Newlyweds']"
   ]
  },
  {
   "cell_type": "code",
   "execution_count": null,
   "id": "e67bc6da-2ad6-4f23-bd18-2db8da90b9db",
   "metadata": {},
   "outputs": [],
   "source": [
    "sig[4799]"
   ]
  },
  {
   "cell_type": "code",
   "execution_count": null,
   "id": "b44249fd-e065-4679-9e1a-69d1b575c48f",
   "metadata": {},
   "outputs": [],
   "source": [
    "list(enumerate(sig[indices['Newlyweds']]))"
   ]
  },
  {
   "cell_type": "code",
   "execution_count": null,
   "id": "2a5f746a-4efc-4dd5-8830-fed0ecc31fce",
   "metadata": {},
   "outputs": [],
   "source": [
    "sorted(list(enumerate(sig[indices['Newlyweds']])), key=lambda x:x[1], reverse=True)"
   ]
  },
  {
   "cell_type": "code",
   "execution_count": null,
   "id": "896d4d29-5106-4a4e-a2e8-a65a1edb579a",
   "metadata": {},
   "outputs": [],
   "source": [
    "def give_rec(title, sig = sig):\n",
    "\n",
    "    idx = indices[title]\n",
    "    sig_scores = list(enumerate(sig[idx]))\n",
    "    sig_scores = sorted(sig_scores, key=lambda x:x[1], reverse=True)\n",
    "    sig_scores = sig_scores[1:11]\n",
    "    movie_indices = [i[0] for i in sig_scores]\n",
    "    return movies_cleaned_df['original_title'].iloc[movie_indices]"
   ]
  },
  {
   "cell_type": "code",
   "execution_count": null,
   "id": "abb1ac56-c79c-43cc-b054-04c88b777879",
   "metadata": {},
   "outputs": [],
   "source": [
    "give_rec('Spy Kids')"
   ]
  },
  {
   "cell_type": "code",
   "execution_count": null,
   "id": "d0aa6f06-49c2-469d-b2bf-bda0f6028715",
   "metadata": {},
   "outputs": [],
   "source": [
    "give_rec('Avatar')"
   ]
  }
 ],
 "metadata": {
  "kernelspec": {
   "display_name": "Python 3 (ipykernel)",
   "language": "python",
   "name": "python3"
  },
  "language_info": {
   "codemirror_mode": {
    "name": "ipython",
    "version": 3
   },
   "file_extension": ".py",
   "mimetype": "text/x-python",
   "name": "python",
   "nbconvert_exporter": "python",
   "pygments_lexer": "ipython3",
   "version": "3.11.5"
  }
 },
 "nbformat": 4,
 "nbformat_minor": 5
}
